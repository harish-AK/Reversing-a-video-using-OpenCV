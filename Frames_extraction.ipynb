{
 "cells": [
  {
   "cell_type": "code",
   "execution_count": 44,
   "id": "28112e0f",
   "metadata": {},
   "outputs": [],
   "source": [
    "import cv2"
   ]
  },
  {
   "cell_type": "code",
   "execution_count": 45,
   "id": "dfaeeebb",
   "metadata": {},
   "outputs": [],
   "source": [
    "video=r\"C:\\Users\\HARISH A K\\Desktop\\python\\Untitled Folder\\frame_extract.mp4\"\n",
    "vid=cv2.VideoCapture(video)"
   ]
  },
  {
   "cell_type": "code",
   "execution_count": 46,
   "id": "79790542",
   "metadata": {},
   "outputs": [
    {
     "name": "stdout",
     "output_type": "stream",
     "text": [
      "All frames are extracted\n"
     ]
    }
   ],
   "source": [
    "count=0\n",
    "success=1\n",
    "extracted_frame_path=r\"C:\\Users\\HARISH A K\\Desktop\\python\\Untitled Folder\\extracted_frames\"\n",
    "while success:\n",
    "    success, img = vid.read()\n",
    "    if not success:\n",
    "        print(\"All frames are extracted\")\n",
    "        break\n",
    "    filename = extracted_frame_path + \"\\\\frame%d.jpg\" % count\n",
    "    cv2.imwrite(filename, img)\n",
    "    count += 1"
   ]
  },
  {
   "cell_type": "code",
   "execution_count": 47,
   "id": "7153b971",
   "metadata": {},
   "outputs": [],
   "source": [
    "# reversed video\n",
    "\n",
    "frame_path = \"C:\\\\Users\\\\HARISH A K\\\\Desktop\\\\python\\\\Untitled Folder\\\\extracted_frames\"\n",
    "output_video_path = \"reversed_vid.mp4\"\n",
    "frame_count = 1449  \n",
    "\n",
    "frame_names = [f\"{frame_path}\\\\frame{i}.jpg\" for i in range(frame_count - 1, -1, -1)]\n",
    "fourcc = cv2.VideoWriter_fourcc(*'MPEG')\n",
    "\n",
    "# This is a common Python technique to convert a string into a sequence of characters \n",
    "# when a function expects multiple arguments.\n",
    "# fourcc = cv2.VideoWriter_fourcc(*'XVID') creates a FourCC code specifically for the XVID video codec, \n",
    "# which will be used when writing the frames to the output video file.\n",
    "\n",
    "\n",
    "output_vid = cv2.VideoWriter(output_video_path, fourcc, 48, (1920, 1080))\n",
    "\n",
    "for filename in frame_names:\n",
    "    img = cv2.imread(filename)\n",
    "    if img is None:\n",
    "        print(f\" Error reading file {filename}\")\n",
    "    else:\n",
    "        output_vid.write(img)\n",
    "\n",
    "output_vid.release()\n"
   ]
  },
  {
   "cell_type": "code",
   "execution_count": 31,
   "id": "fcfa79ff",
   "metadata": {},
   "outputs": [
    {
     "name": "stdout",
     "output_type": "stream",
     "text": [
      "48.0\n"
     ]
    }
   ],
   "source": [
    "import cv2\n",
    "video=r\"C:\\Users\\HARISH A K\\Desktop\\python\\Untitled Folder\\frame_extract.mp4\"\n",
    "#vid=cv2.VideoCapture(video)\n",
    "cap = cv2.VideoCapture(video)\n",
    "fps = cap.get(cv2.CAP_PROP_FPS)\n",
    "print(fps)"
   ]
  },
  {
   "cell_type": "code",
   "execution_count": null,
   "id": "53d34c84",
   "metadata": {},
   "outputs": [],
   "source": []
  }
 ],
 "metadata": {
  "kernelspec": {
   "display_name": "Python 3 (ipykernel)",
   "language": "python",
   "name": "python3"
  },
  "language_info": {
   "codemirror_mode": {
    "name": "ipython",
    "version": 3
   },
   "file_extension": ".py",
   "mimetype": "text/x-python",
   "name": "python",
   "nbconvert_exporter": "python",
   "pygments_lexer": "ipython3",
   "version": "3.9.13"
  }
 },
 "nbformat": 4,
 "nbformat_minor": 5
}
